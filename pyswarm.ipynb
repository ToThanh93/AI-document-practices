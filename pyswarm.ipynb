{
 "cells": [
  {
   "cell_type": "code",
   "execution_count": 1,
   "metadata": {},
   "outputs": [
    {
     "name": "stdout",
     "output_type": "stream",
     "text": [
      "Stopping search: Swarm best objective change less than 1e-08\n"
     ]
    }
   ],
   "source": [
    "from pyswarm import pso\n",
    "\n",
    "def banana(x):\n",
    "    x1 = x[0]\n",
    "    x2 = x[1]\n",
    "    return x1**4 - 2*x2*x1**2 + x2**2 + x1**2 - 2*x1 + 5\n",
    "\n",
    "def con(x):\n",
    "    x1 = x[0]\n",
    "    x2 = x[1]\n",
    "    return [-(x1 + 0.25)**2 + 0.75*x2]\n",
    "\n",
    "lb = [-3, -1]\n",
    "ub = [2, 6]\n",
    "\n",
    "xopt, fopt = pso(banana, lb, ub, f_ieqcons=con)\n",
    "\n",
    "# Optimum should be around x=[0.5, 0.76] with banana(x)=4.5 and con(x)=0"
   ]
  },
  {
   "cell_type": "code",
   "execution_count": 2,
   "metadata": {},
   "outputs": [
    {
     "name": "stdout",
     "output_type": "stream",
     "text": [
      "Stopping search: Swarm best objective change less than 1e-08\n"
     ]
    }
   ],
   "source": [
    "import numpy as np\n",
    "from pyswarm import pso\n",
    "\n",
    "# Define the objective (to be minimize)\n",
    "def weight(x, *args):\n",
    "    H, d, t = x\n",
    "    B, rho, E, P = args\n",
    "    return rho*2*np.pi*d*t*np.sqrt((B/2)**2 + H**2)\n",
    "\n",
    "# Setup the constraint functions\n",
    "def yield_stress(x, *args):\n",
    "    H, d, t = x\n",
    "    B, rho, E, P = args\n",
    "    return (P*np.sqrt((B/2)**2 + H**2))/(2*t*np.pi*d*H)\n",
    "\n",
    "def buckling_stress(x, *args):\n",
    "    H, d, t = x\n",
    "    B, rho, E, P = args\n",
    "    return (np.pi**2*E*(d**2 + t**2))/(8*((B/2)**2 + H**2))\n",
    "\n",
    "def deflection(x, *args):\n",
    "    H, d, t = x\n",
    "    B, rho, E, P = args\n",
    "    return (P*np.sqrt((B/2)**2 + H**2)**3)/(2*t*np.pi*d*H**2*E)\n",
    "\n",
    "def constraints(x, *args):\n",
    "    strs = yield_stress(x, *args)\n",
    "    buck = buckling_stress(x, *args)\n",
    "    defl = deflection(x, *args)\n",
    "    return [100 - strs, buck - strs, 0.25 - defl]\n",
    "\n",
    "# Define the other parameters\n",
    "B = 60  # inches\n",
    "rho = 0.3  # lb/in^3\n",
    "E = 30000  # kpsi (1000-psi)\n",
    "P = 66  # kip (1000-lbs, force)\n",
    "args = (B, rho, E, P)\n",
    "\n",
    "# Define the lower and upper bounds for H, d, t, respectively\n",
    "lb = [10, 1, 0.01]\n",
    "ub = [30, 3, 0.25]\n",
    "\n",
    "xopt, fopt = pso(weight, lb, ub, f_ieqcons=constraints, args=args)\n",
    "\n",
    "# The optimal input values are approximately\n",
    "#     xopt = [29, 2.4, 0.06]\n",
    "# with function values approximately\n",
    "#     weight          = 12 lbs\n",
    "#     yield stress    = 100 kpsi (binding constraint)\n",
    "#     buckling stress = 150 kpsi\n",
    "#     deflection      = 0.2 in"
   ]
  }
 ],
 "metadata": {
  "kernelspec": {
   "display_name": "Python 3",
   "language": "python",
   "name": "python3"
  },
  "language_info": {
   "codemirror_mode": {
    "name": "ipython",
    "version": 3
   },
   "file_extension": ".py",
   "mimetype": "text/x-python",
   "name": "python",
   "nbconvert_exporter": "python",
   "pygments_lexer": "ipython3",
   "version": "3.11.6"
  }
 },
 "nbformat": 4,
 "nbformat_minor": 2
}
