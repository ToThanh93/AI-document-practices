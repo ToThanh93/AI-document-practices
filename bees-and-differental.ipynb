{
 "cells": [
  {
   "cell_type": "code",
   "execution_count": 4,
   "metadata": {},
   "outputs": [
    {
     "data": {
      "text/plain": [
       "array([-3.40025575e-164, -1.06761897e-162,  1.64009849e-163,\n",
       "        9.87028275e-163])"
      ]
     },
     "execution_count": 4,
     "metadata": {},
     "output_type": "execute_result"
    }
   ],
   "source": [
    "from bees_algorithm import BeesAlgorithm\n",
    "def hypersphere(x):\n",
    "    return -sum([pow(xi,2) for xi in x])\n",
    "search_boundaries=([-5,-5,-5,-5], [5,5,5,5])\n",
    "alg = BeesAlgorithm(hypersphere,search_boundaries[0],search_boundaries[1])\n",
    "alg = BeesAlgorithm(hypersphere,search_boundaries[0],search_boundaries[1],ns=0,nb=14,ne=1,nrb=5,nre=30,stlim=10)\n",
    "alg.performSingleStep()\n",
    "alg.performFullOptimisation(max_iteration=5000)\n",
    "best = alg.best_solution\n",
    "best.score      # is the score of the best solution (e.g. 0.0 in our case)\n",
    "best.values     # are the coordinates of the best solution (e.g. [0.0, 0.0, 0.0, 0.0] in our case)\n"
   ]
  },
  {
   "cell_type": "code",
   "execution_count": 1,
   "metadata": {},
   "outputs": [
    {
     "name": "stdout",
     "output_type": "stream",
     "text": [
      "[-5. -5.  5. -5.]\n",
      "-100.0\n"
     ]
    }
   ],
   "source": [
    "from scipy.optimize import differential_evolution\n",
    "\n",
    "# Định nghĩa hàm mục tiêu\n",
    "def hypersphere(x):\n",
    "    return -sum([pow(xi,2) for xi in x])\n",
    "\n",
    "# Định nghĩa giới hạn tìm kiếm\n",
    "bounds = [(-5, 5)] * 4\n",
    "\n",
    "# Sử dụng thuật toán Differential Evolution\n",
    "result = differential_evolution(hypersphere, bounds)\n",
    "\n",
    "# In kết quả tối ưu\n",
    "print(result.x)\n",
    "print(result.fun)"
   ]
  }
 ],
 "metadata": {
  "kernelspec": {
   "display_name": "Python 3",
   "language": "python",
   "name": "python3"
  },
  "language_info": {
   "codemirror_mode": {
    "name": "ipython",
    "version": 3
   },
   "file_extension": ".py",
   "mimetype": "text/x-python",
   "name": "python",
   "nbconvert_exporter": "python",
   "pygments_lexer": "ipython3",
   "version": "3.11.6"
  }
 },
 "nbformat": 4,
 "nbformat_minor": 2
}
