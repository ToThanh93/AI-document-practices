{
 "cells": [
  {
   "cell_type": "code",
   "execution_count": 2,
   "metadata": {},
   "outputs": [
    {
     "name": "stdout",
     "output_type": "stream",
     "text": [
      "Stopping search: Swarm best objective change less than 1e-08\n",
      "Оптимальное значение x:  [1.00004167 1.00009592]\n",
      "Оптимальное значение функции:  1.7570323164860688e-08\n"
     ]
    }
   ],
   "source": [
    "from pyswarm import pso\n",
    "import numpy as np\n",
    "\n",
    "# Định nghĩa hàm Rosenbrock\n",
    "def rosenbrock(x):\n",
    "    return np.sum(100.0*(x[1:]-x[:-1]**2.0)**2.0 + (1-x[:-1])**2.0, axis=0)\n",
    "\n",
    "# Định nghĩa giới hạn của biến\n",
    "lb = [-3, -3]\n",
    "ub = [3, 3]\n",
    "\n",
    "# Sử dụng PSO để tối ưu hóa hàm Rosenbrock\n",
    "xopt, fopt = pso(rosenbrock, lb, ub)\n",
    "\n",
    "print(\"Оптимальное значение x: \", xopt)\n",
    "print(\"Оптимальное значение функции: \", fopt)"
   ]
  },
  {
   "cell_type": "markdown",
   "metadata": {},
   "source": [
    "Результаты показывают, что алгоритм PSO (Particle Swarm Optimization) нашел оптимальное значение для функции Розенброка.\n",
    "\n",
    "Оптимальное значение переменной `x` - это `[1.00004167 1.00009592]`, и оптимальное значение функции Розенброка в этой точке равно `1.7570323164860688e-08`, что почти равно 0. Это показывает, что алгоритм нашел глобальный оптимум функции Розенброка, поскольку минимальное значение функции"
   ]
  },
  {
   "cell_type": "code",
   "execution_count": null,
   "metadata": {},
   "outputs": [
    {
     "name": "stdout",
     "output_type": "stream",
     "text": [
      "Оптимальный путь:  [(2.056018774978094, 5.9311022541442675), (0.16847223563071267, 5.190939202299088), (-1.7492104350753497, 6.25646893379319), (-2.016711966077674, 7.904318615623154), (-4.613282199568333, 9.193675867540751), (-5.938124646944325, 7.707592638424096), (-6.347317636634527, 8.258806676246486), (-9.944895828422789, 9.299004643989985), (-9.782940230633198, 5.95583466780303), (-5.660889235865509, 2.562382207053073), (-3.5676218309555408, 3.3960190162213717), (-7.694160000298567, -2.901421456999307), (-2.214553546562099, -6.705286160099613), (-0.9918786527914758, -7.823159024559516), (-5.800236611366545, -8.485697747303734), (-6.0070447667476445, -7.326102524344112), (-0.11199524090734769, -1.6838568300392147), (3.7965852239908813, -2.900934195387328), (7.927935715247905, 3.660194975769395), (7.875431881843944, 8.302285153667675)]\n",
      "Общее расстояние:  78.97298260979755\n"
     ]
    }
   ],
   "source": [
    "import pants\n",
    "import random\n",
    "import math\n",
    "\n",
    "# Tạo danh sách các điểm\n",
    "nodes = []\n",
    "for _ in range(20):\n",
    "    x = random.uniform(-10, 10)\n",
    "    y = random.uniform(-10, 10)\n",
    "    nodes.append((x, y))\n",
    "\n",
    "# Định nghĩa hàm khoảng cách\n",
    "def euclidean(a, b):\n",
    "    return math.sqrt(pow(a[1] - b[1], 2) + pow(a[0] - b[0], 2))\n",
    "\n",
    "# Tạo một thể hiện của thuật toán ACO\n",
    "world = pants.World(nodes, euclidean)\n",
    "solver = pants.Solver()\n",
    "\n",
    "# Giải quyết bài toán\n",
    "solution = solver.solve(world)\n",
    "\n",
    "# In kết quả\n",
    "print(\"Оптимальный путь: \", solution.tour)    # Оптимальный путь\n",
    "print(\"Общее расстояние: \", solution.distance)  # Общее расстояние"
   ]
  },
  {
   "cell_type": "markdown",
   "metadata": {},
   "source": [
    "Результаты показывают, что алгоритм ACO (Ant Colony Optimization) нашел оптимальный маршрут для задачи коммивояжера.\n",
    "\n",
    "\"Оптимальный путь\" - это список точек, упорядоченных в том порядке, в котором муравей будет их посещать. Это показывает, что муравей нашел эффективный маршрут для посещения всех точек без повторного посещения любой из них.\n",
    "\n",
    "\"Общее расстояние\" - это общее расстояние между всеми последовательными точками на маршруте, в данном случае `78.97298260979755`. Это показывает, что муравей нашел маршрут с минимальным общим расстоянием."
   ]
  },
  {
   "cell_type": "code",
   "execution_count": null,
   "metadata": {},
   "outputs": [
    {
     "name": "stdout",
     "output_type": "stream",
     "text": [
      " The best solution found:                                                                           \n",
      " [ 0.00413617 -0.00091753]\n",
      "\n",
      " Objective function:\n",
      " 1.7949764084734117e-05\n"
     ]
    },
    {
     "data": {
      "image/png": "[encoded data removed]",
      "text/plain": [
       "<Figure size 640x480 with 1 Axes>"
      ]
     },
     "metadata": {},
     "output_type": "display_data"
    }
   ],
   "source": [
    "from geneticalgorithm import geneticalgorithm as ga\n",
    "import numpy as np\n",
    "\n",
    "def f(X):\n",
    "    return np.sum(X**2)\n",
    "\n",
    "varbound = np.array([[-100, 100]]*2)  # Giới hạn của biến\n",
    "\n",
    "algorithm_param = {'max_num_iteration': 1000,\n",
    "                   'population_size':100,\n",
    "                   'mutation_probability':0.1,\n",
    "                   'elit_ratio': 0.01,\n",
    "                   'crossover_probability': 0.5,\n",
    "                   'parents_portion': 0.3,\n",
    "                   'crossover_type':'uniform',\n",
    "                   'max_iteration_without_improv': None}\n",
    "\n",
    "model = ga(function=f, dimension=2, variable_type='real', variable_boundaries=varbound, algorithm_parameters=algorithm_param)\n",
    "\n",
    "model.run()"
   ]
  },
  {
   "cell_type": "markdown",
   "metadata": {},
   "source": [
    "Результаты показывают, что генетический алгоритм (Genetic Algorithm - GA) нашел оптимальное значение для целевой функции `f(X) = np.sum(X**2)`.\n",
    "\n",
    "Оптимальное значение переменной `X` - это `[ 0.00413617 -0.00091753]`, и оптимальное значение функции `f(X)` в этой точке равно `1.7949764084734117e-05`, что почти равно 0. Это показывает, что алгоритм нашел глобальный оптимум функции `f(X)`, поскольку минимальное значение функции `f(X)` равно 0 в точке `X = [0, 0]`."
   ]
  },
  {
   "cell_type": "code",
   "execution_count": 2,
   "metadata": {},
   "outputs": [
    {
     "name": "stdout",
     "output_type": "stream",
     "text": [
      "Оптимальное значение x:  1.4696019711682324\n",
      "Оптимальное значение функции:  -1.2490759598431427\n"
     ]
    }
   ],
   "source": [
    "import random\n",
    "import math\n",
    "\n",
    "# Hàm mục tiêu\n",
    "def f(x):\n",
    "    return x**2 - 3*x + 1\n",
    "\n",
    "# Thuật toán Bee Algorithm\n",
    "def bee_algorithm(f, a, b, n_bees, n_iter):\n",
    "    # Khởi tạo ngẫu nhiên vị trí của các ong\n",
    "    bees = [random.uniform(a, b) for _ in range(n_bees)]\n",
    "    \n",
    "    for _ in range(n_iter):\n",
    "        # Đánh giá chất lượng của các ong\n",
    "        quality = [f(bee) for bee in bees]\n",
    "        \n",
    "        # Chọn ong có chất lượng tốt nhất\n",
    "        best_bee = bees[quality.index(min(quality))]\n",
    "        \n",
    "        # Cập nhật vị trí của các ong\n",
    "        bees = [random.uniform(best_bee - 1, best_bee + 1) for _ in range(n_bees)]\n",
    "    \n",
    "    # Trả về ong tốt nhất sau cùng\n",
    "    return best_bee\n",
    "\n",
    "# Sử dụng thuật toán Bee Algorithm\n",
    "x_opt = bee_algorithm(f, -10, 10, 100, 1000)\n",
    "print(\"Оптимальное значение x: \", x_opt)\n",
    "print(\"Оптимальное значение функции: \", f(x_opt))"
   ]
  },
  {
   "cell_type": "markdown",
   "metadata": {},
   "source": [
    "Результаты показывают, что алгоритм Bee Algorithm нашел оптимальное значение для целевой функции `f(x) = x**2 - 3*x + 1`.\n",
    "\n",
    "Оптимальное значение переменной `x` - это `1.4696019711682324`, и оптимальное значение функции `f(x)` в этой точке равно `-1.2490759598431427`. Это показывает, что алгоритм нашел локальный оптимум функции `f(x)`, поскольку минимальное значение функции `f(x)` равно `-1.25` в точке `x = 1.5`."
   ]
  },
  {
   "cell_type": "code",
   "execution_count": 3,
   "metadata": {},
   "outputs": [
    {
     "name": "stdout",
     "output_type": "stream",
     "text": [
      "Оптимальное значение x:  [1. 1.]\n",
      "Оптимальное значение функции:  4.979684464207637e-30\n"
     ]
    }
   ],
   "source": [
    "from scipy.optimize import differential_evolution\n",
    "import numpy as np\n",
    "\n",
    "# Định nghĩa hàm Rosenbrock\n",
    "def rosenbrock(x):\n",
    "    return np.sum(100.0*(x[1:]-x[:-1]**2.0)**2.0 + (1-x[:-1])**2.0, axis=0)\n",
    "\n",
    "# Định nghĩa giới hạn của biến\n",
    "bounds = [(-3, 3), (-3, 3)]\n",
    "\n",
    "# Sử dụng DE để tối ưu hóa hàm Rosenbrock\n",
    "result = differential_evolution(rosenbrock, bounds)\n",
    "\n",
    "print(\"Оптимальное значение x: \", result.x)\n",
    "print(\"Оптимальное значение функции: \", result.fun)"
   ]
  },
  {
   "cell_type": "markdown",
   "metadata": {},
   "source": [
    "Результаты показывают, что алгоритм дифференциальной эволюции (Differential Evolution - DE) нашел оптимальное значение для функции Розенброка.\n",
    "\n",
    "Оптимальное значение переменной `x` - это `[1. 1.]`, и оптимальное значение функции Розенброка в этой точке равно `4.979684464207637e-30`, что почти равно 0. Это показывает, что алгоритм нашел глобальный оптимум функции Розенброка, поскольку минимальное значение функции Розенброка равно 0 в точке `(1,1)`."
   ]
  }
 ],
 "metadata": {
  "kernelspec": {
   "display_name": "Python 3",
   "language": "python",
   "name": "python3"
  },
  "language_info": {
   "codemirror_mode": {
    "name": "ipython",
    "version": 3
   },
   "file_extension": ".py",
   "mimetype": "text/x-python",
   "name": "python",
   "nbconvert_exporter": "python",
   "pygments_lexer": "ipython3",
   "version": "3.11.6"
  }
 },
 "nbformat": 4,
 "nbformat_minor": 2
}
